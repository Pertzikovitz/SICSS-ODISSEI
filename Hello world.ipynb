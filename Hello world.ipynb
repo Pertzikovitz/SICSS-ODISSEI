{
 "cells": [
  {
   "cell_type": "code",
   "execution_count": 1,
   "id": "5ab636cf",
   "metadata": {},
   "outputs": [],
   "source": [
    "import pandas as pd\n",
    "import matplotlib.pyplot as plt"
   ]
  },
  {
   "cell_type": "code",
   "execution_count": 4,
   "id": "fb088b06",
   "metadata": {},
   "outputs": [],
   "source": [
    "df = pd.read_csv(\"/Users/alonp/surfdrive/NIDI/SICSS-ODISSEI/data_subsample.csv\")"
   ]
  },
  {
   "cell_type": "code",
   "execution_count": 5,
   "id": "e395c291",
   "metadata": {},
   "outputs": [
    {
     "data": {
      "text/html": [
       "<div>\n",
       "<style scoped>\n",
       "    .dataframe tbody tr th:only-of-type {\n",
       "        vertical-align: middle;\n",
       "    }\n",
       "\n",
       "    .dataframe tbody tr th {\n",
       "        vertical-align: top;\n",
       "    }\n",
       "\n",
       "    .dataframe thead th {\n",
       "        text-align: right;\n",
       "    }\n",
       "</style>\n",
       "<table border=\"1\" class=\"dataframe\">\n",
       "  <thead>\n",
       "    <tr style=\"text-align: right;\">\n",
       "      <th></th>\n",
       "      <th>nomem_encr</th>\n",
       "      <th>cf19l_m</th>\n",
       "      <th>cf19l390</th>\n",
       "      <th>cf19l391</th>\n",
       "      <th>cf19l392</th>\n",
       "      <th>cf19l393</th>\n",
       "      <th>cf19l394</th>\n",
       "      <th>cf19l395</th>\n",
       "      <th>cf19l396</th>\n",
       "      <th>cf19l397</th>\n",
       "    </tr>\n",
       "  </thead>\n",
       "  <tbody>\n",
       "    <tr>\n",
       "      <th>0</th>\n",
       "      <td>53334</td>\n",
       "      <td>201909</td>\n",
       "      <td>1.0</td>\n",
       "      <td>4.0</td>\n",
       "      <td>4.0</td>\n",
       "      <td>02-09-2019</td>\n",
       "      <td>18:45:14</td>\n",
       "      <td>02-09-2019</td>\n",
       "      <td>18:49:29</td>\n",
       "      <td>255.0</td>\n",
       "    </tr>\n",
       "    <tr>\n",
       "      <th>1</th>\n",
       "      <td>53334</td>\n",
       "      <td>201909</td>\n",
       "      <td>3.0</td>\n",
       "      <td>4.0</td>\n",
       "      <td>1.0</td>\n",
       "      <td>02-09-2019</td>\n",
       "      <td>22:07:24</td>\n",
       "      <td>02-09-2019</td>\n",
       "      <td>22:17:23</td>\n",
       "      <td>599.0</td>\n",
       "    </tr>\n",
       "    <tr>\n",
       "      <th>2</th>\n",
       "      <td>53337</td>\n",
       "      <td>201909</td>\n",
       "      <td>3.0</td>\n",
       "      <td>3.0</td>\n",
       "      <td>3.0</td>\n",
       "      <td>16-09-2019</td>\n",
       "      <td>13:04:13</td>\n",
       "      <td>16-09-2019</td>\n",
       "      <td>13:06:53</td>\n",
       "      <td>160.0</td>\n",
       "    </tr>\n",
       "    <tr>\n",
       "      <th>3</th>\n",
       "      <td>53337</td>\n",
       "      <td>201909</td>\n",
       "      <td>4.0</td>\n",
       "      <td>3.0</td>\n",
       "      <td>3.0</td>\n",
       "      <td>17-09-2019</td>\n",
       "      <td>11:34:20</td>\n",
       "      <td>17-09-2019</td>\n",
       "      <td>11:45:07</td>\n",
       "      <td>647.0</td>\n",
       "    </tr>\n",
       "    <tr>\n",
       "      <th>4</th>\n",
       "      <td>53339</td>\n",
       "      <td>201909</td>\n",
       "      <td>1.0</td>\n",
       "      <td>3.0</td>\n",
       "      <td>2.0</td>\n",
       "      <td>21-09-2019</td>\n",
       "      <td>13:47:55</td>\n",
       "      <td>21-09-2019</td>\n",
       "      <td>13:51:55</td>\n",
       "      <td>240.0</td>\n",
       "    </tr>\n",
       "  </tbody>\n",
       "</table>\n",
       "</div>"
      ],
      "text/plain": [
       "   nomem_encr  cf19l_m  cf19l390  cf19l391  cf19l392    cf19l393  cf19l394  \\\n",
       "0       53334   201909       1.0       4.0       4.0  02-09-2019  18:45:14   \n",
       "1       53334   201909       3.0       4.0       1.0  02-09-2019  22:07:24   \n",
       "2       53337   201909       3.0       3.0       3.0  16-09-2019  13:04:13   \n",
       "3       53337   201909       4.0       3.0       3.0  17-09-2019  11:34:20   \n",
       "4       53339   201909       1.0       3.0       2.0  21-09-2019  13:47:55   \n",
       "\n",
       "     cf19l395  cf19l396  cf19l397  \n",
       "0  02-09-2019  18:49:29     255.0  \n",
       "1  02-09-2019  22:17:23     599.0  \n",
       "2  16-09-2019  13:06:53     160.0  \n",
       "3  17-09-2019  11:45:07     647.0  \n",
       "4  21-09-2019  13:51:55     240.0  "
      ]
     },
     "execution_count": 5,
     "metadata": {},
     "output_type": "execute_result"
    }
   ],
   "source": [
    "df.head()"
   ]
  },
  {
   "cell_type": "code",
   "execution_count": 30,
   "id": "c454d8c3",
   "metadata": {},
   "outputs": [],
   "source": [
    "df.dtypes\n",
    "\n",
    "from datetime import datetime\n",
    "\n"
   ]
  },
  {
   "cell_type": "code",
   "execution_count": 32,
   "id": "0a0c967f",
   "metadata": {},
   "outputs": [
    {
     "name": "stderr",
     "output_type": "stream",
     "text": [
      "/var/folders/j_/gwp27dq5713937ccc8dqdrjr59zkr8/T/ipykernel_92164/626008753.py:1: FutureWarning: Passing unit-less datetime64 dtype to .astype is deprecated and will raise in a future version. Pass 'datetime64[ns]' instead\n",
      "  df[\"cf19l393\"] = df[\"cf19l393\"].astype(\"datetime64\")\n"
     ]
    }
   ],
   "source": [
    "df[\"cf19l393\"] = df[\"cf19l393\"].astype(\"datetime64\")"
   ]
  },
  {
   "cell_type": "code",
   "execution_count": 45,
   "id": "27a63e1c",
   "metadata": {},
   "outputs": [
    {
     "data": {
      "text/plain": [
       "<Axes: xlabel='cf19l393,cf19l393'>"
      ]
     },
     "execution_count": 45,
     "metadata": {},
     "output_type": "execute_result"
    },
    {
     "data": {
      "image/png": "[encoded data removed]",
      "text/plain": [
       "<Figure size 640x480 with 1 Axes>"
      ]
     },
     "metadata": {},
     "output_type": "display_data"
    }
   ],
   "source": [
    "df[\"cf19l393\"].groupby([ df[\"cf19l393\"].dt.month, df[\"cf19l393\"].dt.day]).count().plot(kind=\"bar\")\n"
   ]
  }
 ],
 "metadata": {
  "kernelspec": {
   "display_name": "Python 3 (ipykernel)",
   "language": "python",
   "name": "python3"
  },
  "language_info": {
   "codemirror_mode": {
    "name": "ipython",
    "version": 3
   },
   "file_extension": ".py",
   "mimetype": "text/x-python",
   "name": "python",
   "nbconvert_exporter": "python",
   "pygments_lexer": "ipython3",
   "version": "3.10.9"
  }
 },
 "nbformat": 4,
 "nbformat_minor": 5
}
